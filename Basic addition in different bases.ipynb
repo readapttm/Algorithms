{
 "cells": [
  {
   "cell_type": "code",
   "execution_count": 1,
   "metadata": {},
   "outputs": [],
   "source": [
    "import numpy as np\n",
    "import math"
   ]
  },
  {
   "cell_type": "markdown",
   "metadata": {},
   "source": [
    "Show canonical integer addition in python:"
   ]
  },
  {
   "cell_type": "code",
   "execution_count": 2,
   "metadata": {},
   "outputs": [],
   "source": [
    "x = 1234\n",
    "y = 30045"
   ]
  },
  {
   "cell_type": "code",
   "execution_count": 3,
   "metadata": {},
   "outputs": [
    {
     "data": {
      "text/plain": [
       "31279"
      ]
     },
     "execution_count": 3,
     "metadata": {},
     "output_type": "execute_result"
    }
   ],
   "source": [
    "x + y"
   ]
  },
  {
   "cell_type": "markdown",
   "metadata": {},
   "source": [
    "Create function to evaluate base B addition:"
   ]
  },
  {
   "cell_type": "code",
   "execution_count": 4,
   "metadata": {},
   "outputs": [],
   "source": [
    "def addition(x, y, B):\n",
    "    \n",
    "    x = str(x)\n",
    "    y = str(y)\n",
    "    \n",
    "   # Ensure digits are of same length\n",
    "    x = x.zfill(len(y))\n",
    "    y = y.zfill(len(x))\n",
    "\n",
    "    # Initialise variables\n",
    "    carry = 0\n",
    "    z = ''\n",
    "    \n",
    "    # Loop through numbers from right to left\n",
    "    for i in range(len(x)):\n",
    "            \n",
    "        z = str(((int(x[-1-i]) + int(y[-1-i])) % B) + carry) + z\n",
    "        carry = math.floor((int(x[-1-i]) + int(y[-1-i])) / B)\n",
    "    \n",
    "    # Append any final carried number\n",
    "    if carry == 1:\n",
    "        z = str(carry) + z\n",
    "    \n",
    "    return x, y, z \n",
    "    "
   ]
  },
  {
   "cell_type": "code",
   "execution_count": null,
   "metadata": {},
   "outputs": [
    {
     "name": "stdout",
     "output_type": "stream",
     "text": [
      "01234 30045 31279\n"
     ]
    }
   ],
   "source": [
    "x_test, y_test, z_test = addition(x, y, 10)\n",
    "print(x_test, y_test, z_test)\n",
    "\n"
   ]
  },
  {
   "cell_type": "markdown",
   "metadata": {},
   "source": [
    "Test addition function on binary numbers (base 2):"
   ]
  },
  {
   "cell_type": "code",
   "execution_count": 8,
   "metadata": {},
   "outputs": [],
   "source": [
    "x = 10010\n",
    "y = 10101"
   ]
  },
  {
   "cell_type": "code",
   "execution_count": 9,
   "metadata": {},
   "outputs": [
    {
     "data": {
      "text/plain": [
       "('10010', '10101', '100111')"
      ]
     },
     "execution_count": 9,
     "metadata": {},
     "output_type": "execute_result"
    }
   ],
   "source": [
    "addition(x, y, 2)"
   ]
  },
  {
   "cell_type": "markdown",
   "metadata": {},
   "source": [
    "Define hexadecimal numbers in a dictionary (and the inverse mapping):"
   ]
  },
  {
   "cell_type": "code",
   "execution_count": 80,
   "metadata": {},
   "outputs": [
    {
     "data": {
      "text/plain": [
       "{0: '0',\n",
       " 1: '1',\n",
       " 2: '2',\n",
       " 3: '3',\n",
       " 4: '4',\n",
       " 5: '5',\n",
       " 6: '6',\n",
       " 7: '7',\n",
       " 8: '8',\n",
       " 9: '9',\n",
       " 10: 'a',\n",
       " 11: 'b',\n",
       " 12: 'c',\n",
       " 13: 'd',\n",
       " 14: 'e',\n",
       " 15: 'f'}"
      ]
     },
     "execution_count": 80,
     "metadata": {},
     "output_type": "execute_result"
    }
   ],
   "source": [
    "hex_dict = {\n",
    "    '0' : 0,\n",
    "    '1' : 1,\n",
    "    '2' : 2,\n",
    "    '3' : 3,\n",
    "    '4' : 4,\n",
    "    '5' : 5,\n",
    "    '6' : 6,\n",
    "    '7' : 7,\n",
    "    '8' : 8,\n",
    "    '9' : 9,\n",
    "    'a' : 10,\n",
    "    'b' : 11,\n",
    "    'c' : 12,\n",
    "    'd' : 13,\n",
    "    'e' : 14,\n",
    "    'f' : 15\n",
    "}\n",
    "\n",
    "## Inverse mapping\n",
    "inv_hex_dict = {v: k for k, v in hex_dict.items()}"
   ]
  },
  {
   "cell_type": "markdown",
   "metadata": {},
   "source": [
    "Alter definition to work with hexadecimal strings:"
   ]
  },
  {
   "cell_type": "code",
   "execution_count": 117,
   "metadata": {},
   "outputs": [],
   "source": [
    "def hex_addition(x, y, B):\n",
    "    \n",
    "   # Ensure digits are of same length\n",
    "    x = x.zfill(len(y))\n",
    "    y = y.zfill(len(x))\n",
    "\n",
    "    # Initialise variables\n",
    "    carry = 0\n",
    "    z = ''\n",
    "    \n",
    "    # Loop through numbers from right to left\n",
    "    for i in range(len(x)):\n",
    "            \n",
    "        z = inv_hex_dict[((hex_dict[x[-1-i]] + hex_dict[y[-1-i]]) % B) + carry] + z\n",
    "        carry = math.floor((hex_dict[x[-1-i]] + hex_dict[y[-1-i]]) / B)\n",
    "    \n",
    "    # Append final carried number if present\n",
    "    if carry == 1:\n",
    "        z = str(carry) + z\n",
    "    \n",
    "    return x, y, z, carry"
   ]
  },
  {
   "cell_type": "code",
   "execution_count": 124,
   "metadata": {},
   "outputs": [],
   "source": [
    "x = '1f'\n",
    "y = '10'"
   ]
  },
  {
   "cell_type": "markdown",
   "metadata": {},
   "source": [
    "Test function - seems to work!:"
   ]
  },
  {
   "cell_type": "code",
   "execution_count": 123,
   "metadata": {},
   "outputs": [
    {
     "data": {
      "text/plain": [
       "('1f', '10', '2f', 0)"
      ]
     },
     "execution_count": 123,
     "metadata": {},
     "output_type": "execute_result"
    }
   ],
   "source": [
    "hex_addition(x, y, 16)"
   ]
  }
 ],
 "metadata": {
  "kernelspec": {
   "display_name": "Python 3",
   "language": "python",
   "name": "python3"
  },
  "language_info": {
   "codemirror_mode": {
    "name": "ipython",
    "version": 3
   },
   "file_extension": ".py",
   "mimetype": "text/x-python",
   "name": "python",
   "nbconvert_exporter": "python",
   "pygments_lexer": "ipython3",
   "version": "3.13.2"
  }
 },
 "nbformat": 4,
 "nbformat_minor": 2
}
