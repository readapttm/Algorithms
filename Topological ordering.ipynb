{
 "cells": [
  {
   "cell_type": "code",
   "execution_count": 3,
   "metadata": {},
   "outputs": [],
   "source": [
    "import numpy as np"
   ]
  },
  {
   "cell_type": "code",
   "execution_count": 4,
   "metadata": {},
   "outputs": [],
   "source": [
    "# Create edge list\n",
    "#dtype = [('source', np.unicode_, 2), ('sink', np.unicode_, 2)]\n",
    "dtype = [('source', np.str_, 2), ('sink', np.str_, 2)]\n",
    "edges = [('s', 'v'), ('s', 'w'), ('v', 't'), ('w', 't')]\n",
    "\n",
    "edge_list = np.array(edges, dtype = dtype)"
   ]
  },
  {
   "cell_type": "code",
   "execution_count": null,
   "metadata": {},
   "outputs": [],
   "source": [
    "def nodes(edge_list):\n",
    "    \n",
    "    nodes = np.concatenate((edge_list['source'], edge_list['sink']))\n",
    "    nodes.sort()\n",
    "    \n",
    "    return np.unique(nodes)\n",
    "\n",
    "\n",
    "sink = 't'\n",
    "n = len(nodes(edge_list))\n",
    "f = {sink: n}\n",
    "\n",
    "#print(f)\n",
    "\n",
    "## Intialise dictionary to store ordering\n",
    "f = {}\n",
    "\n",
    "def top_order(edge_list, f, sink = 't'):\n",
    "    \n",
    "    n = len(nodes(edge_list)) \n",
    "    \n",
    "    ## Topological ordering - store in dictionary\n",
    "    f[sink] = n\n",
    "    \n",
    "    # Remove sink (and corresponding edges) from graph\n",
    "    sink_edge_index = np.array(edge_list['sink'] == sink)\n",
    "    sink_edges = edge_list[sink_edge_index]\n",
    "    #print(sink_edges, edge_list)\n",
    "    edge_list = edge_list[np.isin(edge_list, sink_edges, invert = True)]\n",
    "    \n",
    "    # Identify sinks of new graph\n",
    "    new_sinks = sink_edges['source']\n",
    "    \n",
    "    # Recurse on each newly created sink    \n",
    "    for new_sink in new_sinks:\n",
    "        top_order(edge_list, f, sink = new_sink)\n",
    "        print(new_sink)\n",
    "    return f\n",
    "\n"
   ]
  },
  {
   "cell_type": "code",
   "execution_count": 6,
   "metadata": {},
   "outputs": [
    {
     "name": "stdout",
     "output_type": "stream",
     "text": [
      "s\n",
      "v\n",
      "s\n",
      "w\n",
      "{'t': 4, np.str_('v'): 3, np.str_('s'): 2, np.str_('w'): 3}\n"
     ]
    }
   ],
   "source": [
    "f = top_order(edge_list, f, sink = 't')\n",
    "print(f)"
   ]
  }
 ],
 "metadata": {
  "kernelspec": {
   "display_name": "Python 3",
   "language": "python",
   "name": "python3"
  },
  "language_info": {
   "codemirror_mode": {
    "name": "ipython",
    "version": 3
   },
   "file_extension": ".py",
   "mimetype": "text/x-python",
   "name": "python",
   "nbconvert_exporter": "python",
   "pygments_lexer": "ipython3",
   "version": "3.13.2"
  }
 },
 "nbformat": 4,
 "nbformat_minor": 2
}
