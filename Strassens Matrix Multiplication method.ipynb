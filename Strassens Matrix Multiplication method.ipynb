{
 "cells": [
  {
   "cell_type": "code",
   "execution_count": 1,
   "metadata": {},
   "outputs": [],
   "source": [
    "import numpy as np"
   ]
  },
  {
   "cell_type": "code",
   "execution_count": 2,
   "metadata": {},
   "outputs": [
    {
     "name": "stdout",
     "output_type": "stream",
     "text": [
      "[[1 2]\n",
      " [3 4]\n",
      " [5 6]]\n",
      "[[ 7 10]\n",
      " [15 22]\n",
      " [23 34]]\n",
      "1 3 2 4\n",
      "(3, 2)\n"
     ]
    }
   ],
   "source": [
    "X = np.array([[1, 2], [3, 4], [5, 6]])\n",
    "Y = np.array([[1, 2], [3, 4]])\n",
    "\n",
    "print(X)\n",
    "print(np.matmul(X, Y))\n",
    "print(X[0, 0], X[1, 0], X[0, 1], X[1, 1])\n",
    "\n",
    "print(X.shape)"
   ]
  },
  {
   "cell_type": "markdown",
   "metadata": {},
   "source": [
    "Standard method:"
   ]
  },
  {
   "cell_type": "code",
   "execution_count": 3,
   "metadata": {},
   "outputs": [],
   "source": [
    "def mat_mul_bf(X, Y):\n",
    "    \n",
    "    # Define shape of input arrays\n",
    "    X_row, X_col = X.shape\n",
    "    Y_row, Y_col = Y.shape\n",
    "    \n",
    "    Z = np.zeros((X_row, Y_col), dtype = 'int32')\n",
    "    \n",
    "    if X_col != Y_row:\n",
    "        return print(\"Error, X columns not equal to Y rows - matrix multiplication not defined.\")\n",
    "    \n",
    "    for i in range(X_row):\n",
    "        for k in range(Y_col):\n",
    "            for j in range(X_col):\n",
    "                Z[i, k] = Z[i, k] + X[i, j]*Y[j, k]\n",
    "                \n",
    "    return Z\n",
    "    "
   ]
  },
  {
   "cell_type": "code",
   "execution_count": 4,
   "metadata": {},
   "outputs": [
    {
     "data": {
      "text/plain": [
       "array([[ 7, 10],\n",
       "       [15, 22],\n",
       "       [23, 34]], dtype=int32)"
      ]
     },
     "execution_count": 4,
     "metadata": {},
     "output_type": "execute_result"
    }
   ],
   "source": [
    "mat_mul_bf(X, Y)"
   ]
  },
  {
   "cell_type": "markdown",
   "metadata": {},
   "source": [
    "Strassen method (d=2):"
   ]
  },
  {
   "cell_type": "code",
   "execution_count": 5,
   "metadata": {},
   "outputs": [],
   "source": [
    "def strassen_sq_mult(X, Y):\n",
    "    \n",
    "    p1 = X[0, 0]*(Y[0, 1] - Y[1, 1])\n",
    "    p2 = (X[0, 0] + X[0, 1])* Y[1, 1]\n",
    "    p3 = (X[1, 0] + X[1, 1])* Y[0, 0]\n",
    "    p4 = X[1, 1]*(Y[1, 0] - Y[0, 0])\n",
    "    p5 = (X[0, 0] + X[1, 1])*(Y[0, 0] + Y[1, 1])\n",
    "    p6 = (X[0, 1] - X[1, 1])*(Y[1, 0] + Y[1, 1])\n",
    "    p7 = (X[0, 0] - X[1, 0])*(Y[0, 0] + Y[0, 1])\n",
    "    \n",
    "    res_00 = p5 + p4 - p2 + p6\n",
    "    res_10 = p3 + p4\n",
    "    res_01 = p1 + p2\n",
    "    res_11 = p1 + p5 - p3 - p7\n",
    "    \n",
    "    result = np.array([[res_00, res_01], [res_10, res_11]])\n",
    "    \n",
    "    return result"
   ]
  },
  {
   "cell_type": "code",
   "execution_count": 6,
   "metadata": {},
   "outputs": [
    {
     "data": {
      "text/plain": [
       "array([[ 7, 10],\n",
       "       [15, 22]])"
      ]
     },
     "execution_count": 6,
     "metadata": {},
     "output_type": "execute_result"
    }
   ],
   "source": [
    "strassen_sq_mult(X, Y)"
   ]
  },
  {
   "cell_type": "markdown",
   "metadata": {},
   "source": [
    "In general, can compute strassen recursively on any even sized matrix:\n",
    "For arbitrary matrices, need a method to divide each larger matrix into quadrants until size 2x2 is reached, can then compute the 2x2 product and combine results\n",
    "\n",
    "The method below is defined for square matrices with dimension a power of two (2x2, 4x4, 8x8)"
   ]
  },
  {
   "cell_type": "code",
   "execution_count": 7,
   "metadata": {},
   "outputs": [],
   "source": [
    "def strassen(X, Y):\n",
    "    \n",
    "    if (X.shape == (2, 2)) & (Y.shape == (2, 2)):\n",
    "        return strassen_sq_mult(X, Y)\n",
    "    \n",
    "    # Define shape of input arrays\n",
    "    X_row, X_col = X.shape\n",
    "    Y_row, Y_col = Y.shape\n",
    "    \n",
    "    # Determine midpoint of each array\n",
    "    X_mid_r = X_row // 2\n",
    "    X_mid_c = X_col // 2\n",
    "    \n",
    "    Y_mid_r = Y_row // 2\n",
    "    Y_mid_c = Y_col // 2\n",
    "    \n",
    "    # Calculate each subdivision of the input matrices\n",
    "    A = X[:X_mid_r, :X_mid_c]\n",
    "    B = X[:X_mid_r, X_mid_c:]\n",
    "    C = X[X_mid_r:, :X_mid_c]\n",
    "    D = X[X_mid_r:, X_mid_c:]\n",
    "    E = Y[:Y_mid_r, :Y_mid_c]\n",
    "    F = Y[:Y_mid_r, Y_mid_c:]\n",
    "    G = Y[Y_mid_r:, :Y_mid_c]\n",
    "    H = X[Y_mid_r:, Y_mid_c:]\n",
    "    \n",
    "    # Calculate the recursive products\n",
    "    p1 = strassen(A, F - H)\n",
    "    p2 = strassen(A + B, H) \n",
    "    p3 = strassen(C + D, E) \n",
    "    p4 = strassen(D, G - E)\n",
    "    p5 = strassen(A + D, E + H) \n",
    "    p6 = strassen(B - D, E + H) \n",
    "    p7 = strassen(A - C, E + F)\n",
    "    \n",
    "    # Reconstruct each quadrant\n",
    "    res_00 = p5 + p4 - p2 + p6\n",
    "    res_10 = p3 + p4\n",
    "    res_01 = p1 + p2\n",
    "    res_11 = p1 + p5 - p3 - p7\n",
    "    \n",
    "    # Reassemble the product Z\n",
    "    Z = np.row_stack((np.column_stack((res_00, res_01)), np.column_stack((res_10, res_11))))\n",
    "    \n",
    "    return Z\n",
    "    \n",
    "    "
   ]
  },
  {
   "cell_type": "code",
   "execution_count": 8,
   "metadata": {},
   "outputs": [
    {
     "name": "stdout",
     "output_type": "stream",
     "text": [
      "[[1 2 3 4]\n",
      " [1 2 3 4]\n",
      " [1 2 3 4]\n",
      " [1 2 3 4]]\n"
     ]
    }
   ],
   "source": [
    "X = np.array([[1, 2, 3, 4], [1, 2, 3, 4], [1, 2, 3, 4], [1, 2, 3, 4]])\n",
    "Y = np.array([[1, 2, 3, 4], [1, 2, 3, 4], [1, 2, 3, 4], [1, 2, 3, 4]])\n",
    "\n",
    "X_asym = np.array([[1, 2], [1, 2], [1, 2], [1, 2]])\n",
    "\n",
    "X_asym_pad = np.array([[1, 2, 0, 0], [1, 2, 0, 0], [1, 2, 0, 0], [1, 2, 0, 0]])\n",
    "\n",
    "print(X)"
   ]
  },
  {
   "cell_type": "code",
   "execution_count": 9,
   "metadata": {},
   "outputs": [
    {
     "name": "stdout",
     "output_type": "stream",
     "text": [
      "[[10 20 30 40]\n",
      " [10 20 30 40]\n",
      " [10 20 30 40]\n",
      " [10 20 30 40]]\n",
      "[[10 20 30 40]\n",
      " [10 20 30 40]\n",
      " [10 20 30 40]\n",
      " [10 20 30 40]]\n",
      "[[10 20]\n",
      " [10 20]\n",
      " [10 20]\n",
      " [10 20]]\n",
      "[[10 20  0  0]\n",
      " [10 20  0  0]\n",
      " [10 20  0  0]\n",
      " [10 20  0  0]]\n"
     ]
    },
    {
     "name": "stderr",
     "output_type": "stream",
     "text": [
      "C:\\Users\\ThomasMasters\\AppData\\Local\\Temp\\ipykernel_56084\\314974657.py:43: DeprecationWarning: `row_stack` alias is deprecated. Use `np.vstack` directly.\n",
      "  Z = np.row_stack((np.column_stack((res_00, res_01)), np.column_stack((res_10, res_11))))\n"
     ]
    }
   ],
   "source": [
    "# Strassen method works for square matrices\n",
    "print(strassen(X, Y))\n",
    "print(np.matmul(X, Y))\n",
    "#(X.shape == (4, 4)) & (Y.shape == (4, 4))\n",
    "\n",
    "# How to generalise to any even matrix?\n",
    "# Clue in the behaviour of asymmetric matrices padded with zeros:\n",
    "print(np.matmul(X, X_asym))\n",
    "print(np.matmul(X, X_asym_pad))\n",
    "\n",
    "# This result could be trimmed, but would require a lot of unnecessary comupations\n",
    "# Is there a way to return NULL in a recursive call with no work done?"
   ]
  }
 ],
 "metadata": {
  "kernelspec": {
   "display_name": "Python 3",
   "language": "python",
   "name": "python3"
  },
  "language_info": {
   "codemirror_mode": {
    "name": "ipython",
    "version": 3
   },
   "file_extension": ".py",
   "mimetype": "text/x-python",
   "name": "python",
   "nbconvert_exporter": "python",
   "pygments_lexer": "ipython3",
   "version": "3.13.2"
  }
 },
 "nbformat": 4,
 "nbformat_minor": 2
}
