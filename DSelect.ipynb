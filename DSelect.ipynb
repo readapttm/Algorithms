{
 "cells": [
  {
   "cell_type": "code",
   "execution_count": 1,
   "metadata": {},
   "outputs": [],
   "source": [
    "import random"
   ]
  },
  {
   "cell_type": "code",
   "execution_count": 2,
   "metadata": {},
   "outputs": [],
   "source": [
    "def choosePivot(a):\n",
    "    \n",
    "    # Define base case\n",
    "    if len(a) <= 5:\n",
    "        a = sorted(a)\n",
    "        return a[(len(a) // 2)] ## Return median\n",
    "    \n",
    "    else:\n",
    "        sublsts = [a[i:(i + 5)] for i in range(0, len(a), 5)] # List comprehension breaks a into sublists of length 5\n",
    "        meds = [sorted(sublsts[i])[len(sublsts[i]) // 2] for i in range(0, len(sublsts))] # Sort the sublists and compute median for each\n",
    "   \n",
    "        a = choosePivot(meds) # Recursively call choosePivot until 5 or fewer entries remain in the list\n",
    "\n",
    "    return a\n",
    "\n",
    "# partion around the pivot using repeated swaps\n",
    "def partPivot(a, pivot_value):\n",
    "\n",
    "  #  print(\"a:\", a, \"pivot:\", pivot)\n",
    "\n",
    "    for k in range(len(a)):\n",
    "        if a[k] == pivot_value:\n",
    "            pivot = k\n",
    "            break\n",
    "    \n",
    "    # Swap pivot with first element\n",
    "    if pivot != 0:\n",
    "        a[0], a[pivot] = a[pivot], a[0]\n",
    "    \n",
    "    #print(a)\n",
    "    \n",
    "    # Perform linear scan through array a\n",
    "    # Initialise parition frontier\n",
    "    i = 1\n",
    "        \n",
    "    for j in range(1, len(a)):\n",
    "   #     print(j)\n",
    "        if (a[j] <= a[0]): # and (i != j) - adding this means the first lower number is not counted and so i is not incremented\n",
    "           # Swap scanned element with parition boundary\n",
    "            a[i], a[j] = a[j], a[i] \n",
    "            i += 1\n",
    "   #         print(\"i:\", i)\n",
    "   #         print(\"a:\", a)\n",
    "    \n",
    "    # Once linear scan complete, put pivot at boundary\n",
    "    a[0], a[i-1] = a[i-1], a[0]\n",
    "    \n",
    "    return a, i-1 #The pivoted array and the final position (ith order statistic - 1 due to zero-based indexing) of the pivot\n",
    "\n",
    "\n",
    "# For an array a, ith order statistic i\n",
    "def DSelect(a, i):\n",
    "     \n",
    "# Break into groups of 5 and sort each group\n",
    "# How do deal with groups that do not have length 5 - ignore?\n",
    "\n",
    "# Extract C = the n/5 middle elements of each group\n",
    "# p = DSelect(C, length n/5, statistic n/10) - recursively compute median of C\n",
    "\n",
    "    # Recursively compute median of medians\n",
    "    p = choosePivot(a)\n",
    "\n",
    "    #print(p)\n",
    "    \n",
    "    # Pivot a arround p\n",
    "    a, pivot_ios = partPivot(a, p)\n",
    "\n",
    "    #print(a)\n",
    "\n",
    "# Partition a around p\n",
    "# If j = i return p\n",
    "# If j < i return DSelect(1st part of A, length j-1, i)\n",
    "# Else if j > i return DSelect(2nd part of A, n-j, i-j)\n",
    "\n",
    "    if pivot_ios == (i-1):\n",
    "        return a[i-1]\n",
    "    \n",
    "    elif pivot_ios < (i-1):\n",
    "        a = DSelect(a[(pivot_ios+1):], (i - 1) - pivot_ios)\n",
    "        \n",
    "    else:\n",
    "        a = DSelect(a[:pivot_ios], i)\n",
    "        \n",
    "    return a"
   ]
  },
  {
   "cell_type": "code",
   "execution_count": null,
   "metadata": {},
   "outputs": [
    {
     "name": "stdout",
     "output_type": "stream",
     "text": [
      "[17, 72, 97, 8, 32, 15, 63, 57, 60, 83, 48, 26, 12, 62, 3, 49, 55, 77, 98, 0, 89]\n",
      "3\n",
      "[0, 3, 8, 12, 15, 17, 26, 32, 48, 49, 55, 57, 60, 62, 63, 72, 77, 83, 89, 97, 98]\n"
     ]
    }
   ],
   "source": [
    "## Test\n",
    "random.seed(1)\n",
    "\n",
    "lst = random.sample(range(0, 100), 21)\n",
    "\n",
    "print(lst)\n",
    "\n",
    "print(DSelect(lst, 2))\n",
    "\n",
    "print(sorted(lst))\n",
    "\n"
   ]
  },
  {
   "cell_type": "code",
   "execution_count": 5,
   "metadata": {},
   "outputs": [
    {
     "name": "stdout",
     "output_type": "stream",
     "text": [
      "8\n"
     ]
    }
   ],
   "source": [
    "for i in range(8, 9):\n",
    "    print(i)"
   ]
  }
 ],
 "metadata": {
  "kernelspec": {
   "display_name": "Python 3",
   "language": "python",
   "name": "python3"
  },
  "language_info": {
   "codemirror_mode": {
    "name": "ipython",
    "version": 3
   },
   "file_extension": ".py",
   "mimetype": "text/x-python",
   "name": "python",
   "nbconvert_exporter": "python",
   "pygments_lexer": "ipython3",
   "version": "3.13.2"
  }
 },
 "nbformat": 4,
 "nbformat_minor": 2
}
