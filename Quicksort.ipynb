{
 "cells": [
  {
   "cell_type": "code",
   "execution_count": 2,
   "metadata": {},
   "outputs": [
    {
     "name": "stdout",
     "output_type": "stream",
     "text": [
      "3000\n"
     ]
    }
   ],
   "source": [
    "import sys\n",
    "\n",
    "a = [5, 2, 4, 1, 3, 8, 7]\n",
    "print(sys.getrecursionlimit()) ## 3000 should be enough!"
   ]
  },
  {
   "cell_type": "code",
   "execution_count": 3,
   "metadata": {},
   "outputs": [],
   "source": [
    "import random\n",
    "import sys\n",
    "import math\n",
    "\n",
    "# Choose a pivot\n",
    "def choosePivot(n, pivot_type = 'random'):\n",
    "\n",
    "    if pivot_type == 'random':\n",
    "        index = random.randint(0, n-1) # Random choice of any element\n",
    "    \n",
    "    elif pivot_type == 'fixed':\n",
    "        index = 0 # Default method chooses first element\n",
    "    \n",
    "    else:\n",
    "        sys.exit(\"Error, unexpected pivot type used.\")\n",
    "    \n",
    "    return index\n",
    "\n",
    "# partion around the pivot using repeated swaps\n",
    "def partPivot(a, pivot):\n",
    "\n",
    "  #  print(\"a:\", a, \"pivot:\", pivot)\n",
    "    \n",
    "    # Swap pivot with first element\n",
    "    if pivot != 0:\n",
    "        a[0], a[pivot] = a[pivot], a[0]\n",
    "    \n",
    "    #print(a)\n",
    "    \n",
    "    # Perform linear scan through array a\n",
    "    # Initialise parition frontier\n",
    "    i = 1\n",
    "        \n",
    "    for j in range(1, len(a)):\n",
    "   #     print(j)\n",
    "        if (a[j] <= a[0]): # and (i != j) - adding this means the first lower number is not counted\n",
    "           # Swap scanned element with parition boundary\n",
    "            a[i], a[j] = a[j], a[i] \n",
    "            i += 1\n",
    "   #         print(\"i:\", i)\n",
    "   #         print(\"a:\", a)\n",
    "    \n",
    "    # Once linear scan complete, put pivot at boundary\n",
    "    a[0], a[i-1] = a[i-1], a[0]\n",
    "    \n",
    "    return a, i-1 #The pivoted array and the final position (ith order statistic) of the pivot\n",
    "\n",
    "def QuickSort(a, pivot_type = 'random'):\n",
    "        \n",
    "    n = len(a)\n",
    " \n",
    "    # Base cases\n",
    "#    if n == 0:\n",
    "#        return []\n",
    "    \n",
    "    if n == 1:\n",
    "        return a\n",
    "    \n",
    "    # Choose a pivot element\n",
    "    pivot = choosePivot(n, pivot_type = pivot_type)\n",
    "    \n",
    "    # Partition array around pivot and return array and final position (ith order statistic) of pivot\n",
    "    a, ios = partPivot(a, pivot) \n",
    "    \n",
    "        \n",
    "   # print(a, n, ios)\n",
    "    \n",
    "    #if ios == 0:\n",
    "    #    return a\n",
    "    \n",
    "    # Recusively sort all elements less than pivot and greater than pivot\n",
    "    if len(a[:ios]) > 0:\n",
    "        a[:ios] = QuickSort(a[:ios], pivot_type = pivot_type)\n",
    "    \n",
    "    if len(a[(ios+1):]) > 0:\n",
    "        a[(ios+1):] = QuickSort(a[(ios+1):], pivot_type = pivot_type)\n",
    "    \n",
    "    return a"
   ]
  },
  {
   "cell_type": "code",
   "execution_count": 7,
   "metadata": {},
   "outputs": [
    {
     "name": "stdout",
     "output_type": "stream",
     "text": [
      "[3, 2, 9, 1, 4, 5, 8, 7, 6]\n",
      "[1, 2, 3, 4, 5, 6, 7, 8, 9]\n"
     ]
    }
   ],
   "source": [
    "random.seed(1)\n",
    "\n",
    "#a = [5, 2, 4, 1, 3, 8, 7, 1, 4, 5, 12, 3, 21, 5, 43, 44, 1, 2, 2]\n",
    "a = random.sample(range(1, 10), 9)\n",
    "print(a)\n",
    "\n",
    "\n",
    "\n",
    "\n",
    "sorted_a = QuickSort(a, pivot_type = 'random')\n",
    "print(sorted_a)\n",
    "\n"
   ]
  },
  {
   "cell_type": "code",
   "execution_count": 8,
   "metadata": {},
   "outputs": [],
   "source": [
    "def merge_sort_inv(x):\n",
    "   \n",
    "    # Determine length of array\n",
    "    n = len(x)\n",
    "    \n",
    "    if n == 1:\n",
    "        inv = 0\n",
    "        return x, inv\n",
    "    \n",
    "    else:\n",
    "        # Find midpoint\n",
    "        mid = math.floor(n/2)\n",
    "\n",
    "        # Define subsets of the array and recursively call merge_sort on them\n",
    "        A, invA = merge_sort_inv(x[:mid])\n",
    "        B, invB = merge_sort_inv(x[mid:])\n",
    "        \n",
    "        # Return inversions from recursive calls\n",
    "        inv = invA + invB\n",
    "               \n",
    " ## Initialise merge pointers and storage list\n",
    "        C = []    \n",
    "        i, j = 0, 0\n",
    "    \n",
    "    ## For loop implementation\n",
    "    \n",
    "    ## Count list of array to construct\n",
    "    elems = len(A) + len(B)\n",
    "    \n",
    "    ## Determine which element to append to list\n",
    "    for k in range(elems):\n",
    "        \n",
    "        # Edge case 1, i already exceeds size of A:\n",
    "        if i == len(A):\n",
    "            C.append(B[j])\n",
    "            j += 1\n",
    "            inv += (len(A) - i) # Necessarily 0\n",
    "        \n",
    "        # Edge case 2, j already exceeds size of B:\n",
    "        elif j == len(B):\n",
    "            C.append(A[i])\n",
    "            i += 1\n",
    "        \n",
    "        # Apppend whichever element is smaller\n",
    "        else:\n",
    "            if A[i] <= B[j]:\n",
    "                C.append(A[i])\n",
    "                i += 1\n",
    "            else:\n",
    "                C.append(B[j])\n",
    "                j += 1\n",
    "                inv += (len(A) - i)\n",
    "   \n",
    "    return C, inv"
   ]
  },
  {
   "cell_type": "code",
   "execution_count": 9,
   "metadata": {},
   "outputs": [
    {
     "name": "stdout",
     "output_type": "stream",
     "text": [
      "([1, 2, 3, 4, 5, 6, 7, 8, 9], 0)\n"
     ]
    }
   ],
   "source": [
    "merge_sort_inv(sorted_a)\n",
    "print(merge_sort_inv(sorted_a))"
   ]
  }
 ],
 "metadata": {
  "kernelspec": {
   "display_name": "Python 3",
   "language": "python",
   "name": "python3"
  },
  "language_info": {
   "codemirror_mode": {
    "name": "ipython",
    "version": 3
   },
   "file_extension": ".py",
   "mimetype": "text/x-python",
   "name": "python",
   "nbconvert_exporter": "python",
   "pygments_lexer": "ipython3",
   "version": "3.13.2"
  }
 },
 "nbformat": 4,
 "nbformat_minor": 2
}
