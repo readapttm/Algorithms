{
 "cells": [
  {
   "cell_type": "markdown",
   "metadata": {},
   "source": [
    "Implement merge sort"
   ]
  },
  {
   "cell_type": "code",
   "execution_count": 1,
   "metadata": {},
   "outputs": [],
   "source": [
    "import math"
   ]
  },
  {
   "cell_type": "code",
   "execution_count": 2,
   "metadata": {},
   "outputs": [],
   "source": [
    "a = [5,1,6,8,2,2,2,2,9,3,4]"
   ]
  },
  {
   "cell_type": "code",
   "execution_count": 3,
   "metadata": {},
   "outputs": [],
   "source": [
    "def merge(A, B):\n",
    "    \n",
    "    C = []    \n",
    "    \n",
    " ## Initialise merge pointers and storage list\n",
    "    i, j = 0, 0\n",
    "\n",
    "    ## Count list of array to construct\n",
    "    elems = len(A) + len(B)\n",
    "    \n",
    "    ## Determine which element to append to list\n",
    "    for k in range(elems):\n",
    "        \n",
    "        # Edge case 1, i already exceeds size of A:\n",
    "        if i == len(A):\n",
    "            C.append(B[j])\n",
    "            j += 1\n",
    "        \n",
    "        # Edge case 2, j already exceeds size of B:\n",
    "        elif j == len(B):\n",
    "            C.append(A[i])\n",
    "            i += 1\n",
    "        \n",
    "        # Apppend whichever element is smaller\n",
    "        else:\n",
    "            if A[i] < B[j]:\n",
    "                C.append(A[i])\n",
    "                i += 1\n",
    "            else:\n",
    "                C.append(B[j])\n",
    "                j += 1\n",
    "               \n",
    "    return C\n",
    "\n",
    "\n",
    "def merge_sort(x):\n",
    "    \n",
    "    # Determine length of array\n",
    "    n = len(x)\n",
    "    \n",
    "    if n == 1:\n",
    "        return(x)\n",
    "    \n",
    "    # Find midpoint\n",
    "    mid = math.floor(n/2)\n",
    "    \n",
    "    # Define subsets of the array and recursively call merge_sort on them\n",
    "    A, B = merge_sort(x[:mid]), merge_sort(x[mid:])\n",
    "    \n",
    "    # Merge results\n",
    "    C = merge(A, B)\n",
    "        \n",
    "    return C\n",
    "    "
   ]
  },
  {
   "cell_type": "code",
   "execution_count": 4,
   "metadata": {},
   "outputs": [
    {
     "data": {
      "text/plain": [
       "[1, 2, 2, 2, 2, 3, 4, 5, 6, 8, 9]"
      ]
     },
     "execution_count": 4,
     "metadata": {},
     "output_type": "execute_result"
    }
   ],
   "source": [
    "merge_sort(a)\n"
   ]
  }
 ],
 "metadata": {
  "kernelspec": {
   "display_name": "Python 3",
   "language": "python",
   "name": "python3"
  },
  "language_info": {
   "codemirror_mode": {
    "name": "ipython",
    "version": 3
   },
   "file_extension": ".py",
   "mimetype": "text/x-python",
   "name": "python",
   "nbconvert_exporter": "python",
   "pygments_lexer": "ipython3",
   "version": "3.13.2"
  }
 },
 "nbformat": 4,
 "nbformat_minor": 2
}
