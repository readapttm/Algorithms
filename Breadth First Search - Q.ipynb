{
 "cells": [
  {
   "cell_type": "code",
   "execution_count": 2,
   "metadata": {},
   "outputs": [
    {
     "name": "stdout",
     "output_type": "stream",
     "text": [
      "True\n",
      "[1, 2, 3, 4, 5]\n",
      "[2, 3, 4, 5]\n",
      "1\n"
     ]
    }
   ],
   "source": [
    "import numpy as np\n",
    "\n",
    "x = [1, 2, 3, 4]\n",
    "\n",
    "print(5 not in x)\n",
    "\n",
    "x.append(5)\n",
    "\n",
    "print(x)\n",
    "\n",
    "y = x.pop(0)\n",
    "\n",
    "print(x)\n",
    "print(y)"
   ]
  },
  {
   "cell_type": "code",
   "execution_count": 3,
   "metadata": {},
   "outputs": [
    {
     "data": {
      "text/plain": [
       "{'s': 0, 'a': 1}"
      ]
     },
     "execution_count": 3,
     "metadata": {},
     "output_type": "execute_result"
    }
   ],
   "source": [
    "dist = {'s': 0}\n",
    "dist['a'] = dist['s'] + 1\n",
    "\n",
    "dist"
   ]
  },
  {
   "cell_type": "code",
   "execution_count": 5,
   "metadata": {},
   "outputs": [],
   "source": [
    "def nodes(edge_list):\n",
    "    \n",
    "    nodes = np.concatenate((edge_list['source'], edge_list['sink']))\n",
    "    nodes.sort()\n",
    "    \n",
    "    return np.unique(nodes)\n"
   ]
  },
  {
   "cell_type": "code",
   "execution_count": null,
   "metadata": {},
   "outputs": [
    {
     "name": "stdout",
     "output_type": "stream",
     "text": [
      "[]\n",
      "['s', np.str_('a'), np.str_('b'), np.str_('c'), np.str_('d'), np.str_('e')]\n",
      "{'s': 0, np.str_('a'): 1, np.str_('b'): 1, np.str_('c'): 2, np.str_('d'): 2, np.str_('e'): 3}\n"
     ]
    }
   ],
   "source": [
    "#dtype = [('source', np.unicode_, 2), ('sink', np.unicode_, 2)] - Deprecated\n",
    "dtype = [('source', np.str_, 2), ('sink', np.str_, 2)]\n",
    "edges = [('s', 'a'), ('s', 'b'), ('a', 'c'), ('b', 'c'), ('b', 'd'), ('c', 'd'), ('c', 'e'), ('d', 'e')]\n",
    "\n",
    "edge_list = np.array(edges, dtype = dtype)\n",
    "\n",
    "\n",
    "#print(edge_list)\n",
    "#print(nodes(edge_list))\n",
    "\n",
    "## Initialise Q and a list of explored nodes\n",
    "Q = ['s']\n",
    "explored = list(Q)\n",
    "\n",
    "## Shortest paths - initialise dictionary\n",
    "dist = {'s': 0}\n",
    "\n",
    "#for i in range(len(edge_list)):\n",
    "while len(Q) > 0:    \n",
    "    # remove first node of Q, call it v \n",
    "    v = Q.pop(0)\n",
    "    #print(v)\n",
    "    \n",
    "    # Identify edges (v, w)\n",
    "    v_edge_index = np.array(edge_list['source'] == v)\n",
    "    v_edges = edge_list[v_edge_index]\n",
    "\n",
    "    #print(v_edges)\n",
    "    \n",
    "    # for each edge (v, w)\n",
    "    for edge in v_edges:\n",
    "        # if w unexplored, mark as explored and add w to Q\n",
    "        #print(edge['sink'] not in explored)\n",
    "        if edge['sink'] not in explored:\n",
    "            explored.append(edge['sink'])\n",
    "            Q.append(edge['sink'])\n",
    "            dist[edge['sink']] = dist[edge['source']] + 1\n",
    "    \n",
    "print(Q)\n",
    "print(explored)\n",
    "print(dist)\n",
    "\n"
   ]
  }
 ],
 "metadata": {
  "kernelspec": {
   "display_name": "Python 3",
   "language": "python",
   "name": "python3"
  },
  "language_info": {
   "codemirror_mode": {
    "name": "ipython",
    "version": 3
   },
   "file_extension": ".py",
   "mimetype": "text/x-python",
   "name": "python",
   "nbconvert_exporter": "python",
   "pygments_lexer": "ipython3",
   "version": "3.13.2"
  }
 },
 "nbformat": 4,
 "nbformat_minor": 2
}
