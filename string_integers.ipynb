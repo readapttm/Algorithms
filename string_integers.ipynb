{
 "cells": [
  {
   "cell_type": "markdown",
   "metadata": {},
   "source": [
    "Create class of integers recorded as strings with some primitive operations"
   ]
  },
  {
   "cell_type": "code",
   "execution_count": 2,
   "metadata": {},
   "outputs": [],
   "source": [
    "class string_int:\n",
    "    def __init__(self, number):\n",
    "        \n",
    "        if number[0] == '-':\n",
    "            self.sign = -1\n",
    "            self.mag = int(number[1:])\n",
    "        \n",
    "        else:\n",
    "            self.sign = 1\n",
    "            self.mag = int(number)\n",
    "\n",
    "    def str_add(self, x):\n",
    "            return(str(self.sign*self.mag + x.sign*x.mag))\n",
    "    \n",
    "    def str_subtract(self, x):\n",
    "            return(str(self.sign*self.mag - x.sign*x.mag))\n",
    "    \n",
    "    def str_multiply(self, x):\n",
    "            return(str(self.sign*self.mag*x.sign*x.mag))\n",
    "        \n",
    "    def str_divide(self, x):\n",
    "            return(str(int(self.sign*self.mag/(x.sign*x.mag))))"
   ]
  },
  {
   "cell_type": "code",
   "execution_count": 4,
   "metadata": {},
   "outputs": [
    {
     "name": "stdout",
     "output_type": "stream",
     "text": [
      "-201\n",
      "199\n",
      "200\n",
      "0\n"
     ]
    }
   ],
   "source": [
    "a = string_int('-1')\n",
    "\n",
    "#print(a.sign)\n",
    "\n",
    "b = string_int('-200')\n",
    "\n",
    "print(a.str_add(b))\n",
    "print(a.str_subtract(b))\n",
    "print(a.str_multiply(b))\n",
    "print(a.str_divide(b))"
   ]
  }
 ],
 "metadata": {
  "kernelspec": {
   "display_name": "Python 3",
   "language": "python",
   "name": "python3"
  },
  "language_info": {
   "codemirror_mode": {
    "name": "ipython",
    "version": 3
   },
   "file_extension": ".py",
   "mimetype": "text/x-python",
   "name": "python",
   "nbconvert_exporter": "python",
   "pygments_lexer": "ipython3",
   "version": "3.13.2"
  }
 },
 "nbformat": 4,
 "nbformat_minor": 2
}
