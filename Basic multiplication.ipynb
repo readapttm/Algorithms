{
 "cells": [
  {
   "cell_type": "markdown",
   "metadata": {},
   "source": [
    "Implement school method for multiplication"
   ]
  },
  {
   "cell_type": "code",
   "execution_count": 1,
   "metadata": {},
   "outputs": [],
   "source": [
    "import math"
   ]
  },
  {
   "cell_type": "code",
   "execution_count": 2,
   "metadata": {},
   "outputs": [],
   "source": [
    "x = 123\n",
    "y = 456"
   ]
  },
  {
   "cell_type": "markdown",
   "metadata": {},
   "source": [
    "Demonstrate standard result:"
   ]
  },
  {
   "cell_type": "code",
   "execution_count": 3,
   "metadata": {},
   "outputs": [
    {
     "data": {
      "text/plain": [
       "56088"
      ]
     },
     "execution_count": 3,
     "metadata": {},
     "output_type": "execute_result"
    }
   ],
   "source": [
    "x*y"
   ]
  },
  {
   "cell_type": "markdown",
   "metadata": {},
   "source": [
    "Retain definition of addition (this will be required for second multiplication step):"
   ]
  },
  {
   "cell_type": "code",
   "execution_count": 4,
   "metadata": {},
   "outputs": [],
   "source": [
    "def addition(x, y, B):\n",
    "    \n",
    "    # Convert numbers to string if required\n",
    "    x = str(x)\n",
    "    y = str(y)\n",
    "    \n",
    "    # Ensure digits are of same length\n",
    "    x = x.zfill(len(y))\n",
    "    y = y.zfill(len(x))\n",
    "\n",
    "    # Initialise variables\n",
    "    carry = 0\n",
    "    z = ''\n",
    "    \n",
    "    # Loop through numbers from right to left\n",
    "    for i in range(len(x)):\n",
    "            \n",
    "        z = str(((int(x[-1-i]) + int(y[-1-i])) % B) + carry) + z\n",
    "        carry = math.floor((int(x[-1-i]) + int(y[-1-i])) / B)\n",
    "    \n",
    "    # Append any final carried number\n",
    "    if carry == 1:\n",
    "        z = str(carry) + z\n",
    "    \n",
    "    return z "
   ]
  },
  {
   "cell_type": "markdown",
   "metadata": {},
   "source": [
    "Create subtraction function:"
   ]
  },
  {
   "cell_type": "code",
   "execution_count": 5,
   "metadata": {},
   "outputs": [],
   "source": [
    "def subtraction(x, y, B):\n",
    "    \n",
    "    # Convert numbers to string if required\n",
    "    x = str(x)\n",
    "    y = str(y)\n",
    "    \n",
    "    # Ensure digits are of same length\n",
    "    x = x.zfill(len(y))\n",
    "    y = y.zfill(len(x))\n",
    "\n",
    "    # Initialise variables\n",
    "    carry = 0\n",
    "    z = ''\n",
    "    \n",
    "    # Loop through numbers from right to left\n",
    "    for i in range(len(x)):\n",
    "            \n",
    "        z = str(((int(x[-1-i]) + int(y[-1-i])) % B) + carry) + z\n",
    "        carry = math.floor((int(x[-1-i]) + int(y[-1-i])) / B)\n",
    "    \n",
    "    # Append any final carried number\n",
    "    if carry == 1:\n",
    "        z = str(carry) + z\n",
    "    \n",
    "    return z "
   ]
  },
  {
   "cell_type": "markdown",
   "metadata": {},
   "source": [
    "Create function for multiplication with base B:"
   ]
  },
  {
   "cell_type": "code",
   "execution_count": 6,
   "metadata": {},
   "outputs": [],
   "source": [
    "def multiply(x, y, B):\n",
    "    \n",
    "    # Convert numbers to string\n",
    "    x = str(x)\n",
    "    y = str(y)\n",
    "    \n",
    "    # Initialise vector to store intermediate results\n",
    "    term = ['']\n",
    "    \n",
    "    for i in range(len(y) - 1):\n",
    "        term.append('')\n",
    "     \n",
    "    # Initialise carry\n",
    "    carry = 0\n",
    "    \n",
    "    for j in range(len(y)):\n",
    "        for i in range(len(x)):\n",
    "            \n",
    "            term[j] = str((int(y[-1-j])*int(x[-1-i]) % B) + carry) + term[j]\n",
    "            carry = math.floor((int(y[-1-j])*int(x[-1-i])) / B)\n",
    "        \n",
    "         # Append any final carried number\n",
    "        if carry == 1:\n",
    "            term[j] = str(carry) + term[j]\n",
    "        \n",
    "        # Append appropriate number of bases\n",
    "        for k in range(j):\n",
    "            term[j] = term[j] + '0'\n",
    "   \n",
    "    # Print out intermediate terms as a check\n",
    "    #print(term)\n",
    "   # print(term[0])\n",
    "\n",
    "    # Initialise result variable\n",
    "    result = '0'\n",
    "    \n",
    "    # Add up all the intermediate multiplication results\n",
    "    for k in range(len(term)):\n",
    "        result = addition(result, term[k], B)\n",
    "        \n",
    "    return result\n",
    "    "
   ]
  },
  {
   "cell_type": "code",
   "execution_count": 7,
   "metadata": {},
   "outputs": [
    {
     "data": {
      "text/plain": [
       "'579'"
      ]
     },
     "execution_count": 7,
     "metadata": {},
     "output_type": "execute_result"
    }
   ],
   "source": [
    "addition('123', '456', 10)"
   ]
  },
  {
   "cell_type": "code",
   "execution_count": 8,
   "metadata": {},
   "outputs": [
    {
     "data": {
      "text/plain": [
       "'0'"
      ]
     },
     "execution_count": 8,
     "metadata": {},
     "output_type": "execute_result"
    }
   ],
   "source": [
    "multiply(0, 0, 10)"
   ]
  },
  {
   "cell_type": "markdown",
   "metadata": {},
   "source": [
    "Does this work for binary numbers? (Yes!):"
   ]
  },
  {
   "cell_type": "code",
   "execution_count": 9,
   "metadata": {},
   "outputs": [],
   "source": [
    "x = 10010\n",
    "y = 101"
   ]
  },
  {
   "cell_type": "code",
   "execution_count": 10,
   "metadata": {},
   "outputs": [
    {
     "data": {
      "text/plain": [
       "'1011010'"
      ]
     },
     "execution_count": 10,
     "metadata": {},
     "output_type": "execute_result"
    }
   ],
   "source": [
    "multiply(x, y, 2)"
   ]
  },
  {
   "cell_type": "markdown",
   "metadata": {},
   "source": [
    "Implement Karatsuba multiplication method - assume inputs are strings:"
   ]
  },
  {
   "cell_type": "code",
   "execution_count": 11,
   "metadata": {},
   "outputs": [],
   "source": [
    "def karatsuba(x, y, B):\n",
    "    \n",
    "    # Define base cases\n",
    "    if ((int(x) < B) or (int(y) < B)):\n",
    "        return multiply(x, y, B)\n",
    "    \n",
    "    # Find midpoint\n",
    "    m = min(len(x), len(y))\n",
    "    m2 = math.floor(m/2)\n",
    "    \n",
    "    # Define subsets of each array\n",
    "    a, b =  x[:m2], x[m2:]\n",
    "    c, d =  y[:m2], y[m2:]\n",
    "    \n",
    "    print(\"a:\", a, \"b:\", b, \"c:\", c, \"d:\", d,\" m:\", m, \"m2:\", m2)\n",
    "    \n",
    "    # Calculate the subproblems\n",
    "    z0 = karatsuba(b, d, B)\n",
    "    z1 = karatsuba(str(int(a) + int(b)), str(int(c) + int(d)), B)\n",
    "    z2 = karatsuba(a, c, B)\n",
    "    \n",
    "    # Return the result using string operations\n",
    "    \n",
    "    # Calculate first term\n",
    "    term1 = z2\n",
    "    \n",
    "    for i in range(m2*2):\n",
    "        term1 = multiply(term1, B, B)\n",
    "    \n",
    "    # Calculate second term\n",
    "    term2 = str(int(z1) - int(addition(z2, z0, B))) # This will fall over for bases other than B = 10, implement string subtraction to fix\n",
    "    #term2 = subtraction(z1, addition(z2, z0)) # Use this line once string subtraction is implemented\n",
    "                                               # May need to implement a new class for negative strings with a sign, magnitude and methods (e.g. print)\n",
    "    \n",
    "    for i in range(m2):\n",
    "        term2 = multiply(term2, B, B)\n",
    "    \n",
    "    print(\"z0:\", z0, \"z1:\", z1, \"z2:\", z2, \"term1:\", term1,\" term2:\", term2)\n",
    "    \n",
    "    return addition(term1, addition(term2, z0, B), B)\n",
    "\n",
    "    #return (z2 * B ^ (m2 * 2)) + ((z1 - z2 - z0) * B ^ m2) + z0\n",
    "    "
   ]
  },
  {
   "cell_type": "code",
   "execution_count": 127,
   "metadata": {},
   "outputs": [
    {
     "name": "stdout",
     "output_type": "stream",
     "text": [
      "a: 10 b: 10 c: 00 d: 10  m: 4 m2: 2\n",
      "a: 1 b: 0 c: 1 d: 0  m: 2 m2: 1\n",
      "z0: 0 z1: 1 z2: 1 term1: 100  term2: 00\n",
      "a: 2 b: 0 c: 1 d: 0  m: 2 m2: 1\n",
      "z0: 0 z1: 2 z2: 2 term1: 200  term2: 00\n",
      "z0: 100 z1: 200 z2: 000 term1: 0000000  term2: 10000\n",
      "0010100\n"
     ]
    }
   ],
   "source": [
    "# Inputs need to have length in the powers of two - use string padding before passing the numbers to the recursive function\n",
    "print(karatsuba('1010', '0010', 10))\n"
   ]
  },
  {
   "cell_type": "code",
   "execution_count": 128,
   "metadata": {},
   "outputs": [
    {
     "data": {
      "text/plain": [
       "10100"
      ]
     },
     "execution_count": 128,
     "metadata": {},
     "output_type": "execute_result"
    }
   ],
   "source": [
    "1010*10"
   ]
  }
 ],
 "metadata": {
  "kernelspec": {
   "display_name": "Python 3",
   "language": "python",
   "name": "python3"
  },
  "language_info": {
   "codemirror_mode": {
    "name": "ipython",
    "version": 3
   },
   "file_extension": ".py",
   "mimetype": "text/x-python",
   "name": "python",
   "nbconvert_exporter": "python",
   "pygments_lexer": "ipython3",
   "version": "3.13.2"
  }
 },
 "nbformat": 4,
 "nbformat_minor": 2
}
