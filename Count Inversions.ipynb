{
 "cells": [
  {
   "cell_type": "code",
   "execution_count": 1,
   "metadata": {},
   "outputs": [],
   "source": [
    "import math"
   ]
  },
  {
   "cell_type": "code",
   "execution_count": 2,
   "metadata": {},
   "outputs": [],
   "source": [
    "#a = [5,1,6,8,2,2,2,2,9,3,4]\n",
    "#a = [1, 3, 5, 2, 4, 6]\n",
    "a = [6, 5, 4, 3, 2, 1, 7, 8]"
   ]
  },
  {
   "cell_type": "markdown",
   "metadata": {},
   "source": [
    "Brute force:"
   ]
  },
  {
   "cell_type": "code",
   "execution_count": 3,
   "metadata": {},
   "outputs": [],
   "source": [
    "def count_inv_bf(a):\n",
    "\n",
    "    count = 0\n",
    "    \n",
    "    for i in range(len(a)):\n",
    "        for j in range(i, len(a)):\n",
    "            if a[i] > a[j]:\n",
    "                count += 1\n",
    "                \n",
    "    return count"
   ]
  },
  {
   "cell_type": "code",
   "execution_count": 4,
   "metadata": {},
   "outputs": [
    {
     "data": {
      "text/plain": [
       "15"
      ]
     },
     "execution_count": 4,
     "metadata": {},
     "output_type": "execute_result"
    }
   ],
   "source": [
    "count_inv_bf(a)"
   ]
  },
  {
   "cell_type": "markdown",
   "metadata": {},
   "source": [
    "Using divide and conquer: ## Not working yet!"
   ]
  },
  {
   "cell_type": "code",
   "execution_count": 5,
   "metadata": {},
   "outputs": [],
   "source": [
    "def merge(A, B, inv):\n",
    "    \n",
    "    C = []    \n",
    "    \n",
    " ## Initialise merge pointers and storage list\n",
    "    i, j = 0, 0\n",
    "    #inv = 0\n",
    "\n",
    "    ## Count list of array to construct\n",
    "    elems = len(A) + len(B)\n",
    "    \n",
    "    ## Determine which element to append to list\n",
    "    for k in range(elems):\n",
    "        \n",
    "        # Edge case 1, i already exceeds size of A:\n",
    "        if i == len(A):\n",
    "            C.append(B[j])\n",
    "            j += 1\n",
    "            inv += (len(A) - 1)\n",
    "        \n",
    "        # Edge case 2, j already exceeds size of B:\n",
    "        elif j == len(B):\n",
    "            C.append(A[i])\n",
    "            i += 1\n",
    "        \n",
    "        # Apppend whichever element is smaller\n",
    "        else:\n",
    "            if A[i] < B[j]:\n",
    "                C.append(A[i])\n",
    "                i += 1\n",
    "            else:\n",
    "                C.append(B[j])\n",
    "                j += 1\n",
    "                inv += (len(A) - 1)\n",
    "               \n",
    "    return C, inv\n",
    "\n",
    "\n",
    "def merge_sort_inv(x):\n",
    "   \n",
    "    # Determine length of array\n",
    "    n = len(x)\n",
    "    \n",
    "    print(\"n:\", n)\n",
    "    \n",
    "    if n == 1:\n",
    "        inv = 0\n",
    "        return x, inv\n",
    "    \n",
    "    else:\n",
    "        # Find midpoint\n",
    "        mid = math.floor(n/2)\n",
    "\n",
    "        # Define subsets of the array and recursively call merge_sort on them\n",
    "        A, invA = merge_sort_inv(x[:mid])\n",
    "        B, invB = merge_sort_inv(x[mid:])\n",
    "\n",
    "        # Return inversions from recursive calls\n",
    "        inv = invA + invB\n",
    "    \n",
    "    # Merge results and return inversions from new merge\n",
    "    C, invC = merge(A, B, inv)\n",
    "    \n",
    "    inv = inv + invC\n",
    "         \n",
    "    print(C, invA, invB, invC, inv)\n",
    "    \n",
    "    return C, inv"
   ]
  },
  {
   "cell_type": "code",
   "execution_count": null,
   "metadata": {},
   "outputs": [],
   "source": [
    "def merge_sort_inv(x):\n",
    "   \n",
    "    # Determine length of array\n",
    "    n = len(x)\n",
    "    \n",
    "    #print(\"n:\", n)\n",
    "    \n",
    "    if n == 1:\n",
    "        inv = 0\n",
    "        return x, inv\n",
    "    \n",
    "    else:\n",
    "        # Find midpoint\n",
    "        mid = math.floor(n/2)\n",
    "\n",
    "        # Define subsets of the array and recursively call merge_sort on them\n",
    "        A, invA = merge_sort_inv(x[:mid])\n",
    "        B, invB = merge_sort_inv(x[mid:])\n",
    "        \n",
    "        # Return inversions from recursive calls\n",
    "        inv = invA + invB\n",
    "               \n",
    " ## Initialise merge pointers and storage list\n",
    "        C = []    \n",
    "        i, j = 0, 0\n",
    "    #inv = 0    \n",
    "    \n",
    "    ## For loop implementation\n",
    "    \n",
    "    ## Count list of array to construct\n",
    "    elems = len(A) + len(B)\n",
    "    \n",
    "    ## Determine which element to append to list\n",
    "    for k in range(elems):\n",
    "        \n",
    "        # Edge case 1, i already exceeds size of A:\n",
    "        if i == len(A):\n",
    "            C.append(B[j])\n",
    "            j += 1\n",
    "            inv += (len(A) - i) # Necessarily 0\n",
    "        \n",
    "        # Edge case 2, j already exceeds size of B:\n",
    "        elif j == len(B):\n",
    "            C.append(A[i])\n",
    "            i += 1\n",
    "        \n",
    "        # Apppend whichever element is smaller\n",
    "        else:\n",
    "            if A[i] <= B[j]:\n",
    "                C.append(A[i])\n",
    "                i += 1\n",
    "            else:\n",
    "                C.append(B[j])\n",
    "                j += 1\n",
    "                inv += (len(A) - i)\n",
    "   \n",
    "    return C, inv"
   ]
  },
  {
   "cell_type": "code",
   "execution_count": 7,
   "metadata": {},
   "outputs": [
    {
     "name": "stdout",
     "output_type": "stream",
     "text": [
      "C: [1, 2, 3, 4, 5, 6] inversions: 15\n"
     ]
    }
   ],
   "source": [
    "a = [6, 5, 4, 3, 2, 1]\n",
    "#a = [1, 2, 3, 5, 4, 6, 7, 8]\n",
    "#a = [4, 3, 2, 1]\n",
    "\n",
    "C, inv = merge_sort_inv(a)\n",
    "print(\"C:\", C, \"inversions:\", inv)\n"
   ]
  },
  {
   "cell_type": "code",
   "execution_count": 8,
   "metadata": {},
   "outputs": [
    {
     "data": {
      "text/plain": [
       "[]"
      ]
     },
     "execution_count": 8,
     "metadata": {},
     "output_type": "execute_result"
    }
   ],
   "source": [
    "#merge([3, 4, 5, 6], [1, 2, 7, 8], 0)\n",
    "\n",
    "A = ['0']\n",
    "A[1:] ## Adding a semi-colon prevents errors...."
   ]
  },
  {
   "cell_type": "code",
   "execution_count": 9,
   "metadata": {},
   "outputs": [],
   "source": [
    "def mergeSortInversions(arr):\n",
    "    \n",
    "    if len(arr) == 1:\n",
    "        return arr, 0\n",
    "    \n",
    "    else:\n",
    "        m = len(arr) // 2\n",
    "        print(m)\n",
    "        a = arr[:m]\n",
    "        b = arr[m:]\n",
    "        a, ai = mergeSortInversions(a)\n",
    "        b, bi = mergeSortInversions(b)\n",
    "        c = []\n",
    "        i = 0\n",
    "        j = 0\n",
    "        inversions = 0 + ai + bi\n",
    "        \n",
    "    while i < len(a) and j < len(b):\n",
    "        if a[i] <= b[j]:\n",
    "            c.append(a[i])\n",
    "            i += 1\n",
    "        else:\n",
    "            c.append(b[j])\n",
    "            j += 1\n",
    "            inversions += (len(a)-i)\n",
    "    \n",
    "    # Add on remaining element that has yet to be sorted - could be in a or b\n",
    "    c += a[i:] \n",
    "    c += b[j:]\n",
    "    \n",
    "    return c, inversions"
   ]
  },
  {
   "cell_type": "code",
   "execution_count": 10,
   "metadata": {},
   "outputs": [
    {
     "name": "stdout",
     "output_type": "stream",
     "text": [
      "3\n",
      "1\n",
      "1\n",
      "1\n",
      "1\n"
     ]
    },
    {
     "data": {
      "text/plain": [
       "([1, 2, 3, 4, 5, 6], 15)"
      ]
     },
     "execution_count": 10,
     "metadata": {},
     "output_type": "execute_result"
    }
   ],
   "source": [
    "a = [6, 5, 4, 3, 2, 1]\n",
    "mergeSortInversions(a)"
   ]
  }
 ],
 "metadata": {
  "kernelspec": {
   "display_name": "Python 3",
   "language": "python",
   "name": "python3"
  },
  "language_info": {
   "codemirror_mode": {
    "name": "ipython",
    "version": 3
   },
   "file_extension": ".py",
   "mimetype": "text/x-python",
   "name": "python",
   "nbconvert_exporter": "python",
   "pygments_lexer": "ipython3",
   "version": "3.13.2"
  }
 },
 "nbformat": 4,
 "nbformat_minor": 2
}
