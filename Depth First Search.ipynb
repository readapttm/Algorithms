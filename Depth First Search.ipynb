{
 "cells": [
  {
   "cell_type": "code",
   "execution_count": 1,
   "metadata": {},
   "outputs": [],
   "source": [
    "import numpy as np"
   ]
  },
  {
   "cell_type": "code",
   "execution_count": 3,
   "metadata": {},
   "outputs": [],
   "source": [
    "# Create edge list\n",
    "#dtype = [('source', np.unicode_, 2), ('sink', np.unicode_, 2)]\n",
    "dtype = [('source', np.str_, 2), ('sink', np.str_, 2)]\n",
    "edges = [('s', 'a'), ('s', 'b'), ('a', 'c'), ('b', 'c'), ('b', 'd'), ('c', 'd'), ('c', 'e'), ('d', 'e')]\n",
    "\n",
    "edge_list = np.array(edges, dtype = dtype)\n"
   ]
  },
  {
   "cell_type": "code",
   "execution_count": 4,
   "metadata": {},
   "outputs": [
    {
     "name": "stdout",
     "output_type": "stream",
     "text": [
      "s\n",
      "[('s', 'a') ('s', 'b')]\n",
      "unexplored edge ('s', 'a')\n",
      "unexplored edge ('s', 'b')\n",
      "b\n",
      "[('b', 'c') ('b', 'd')]\n",
      "unexplored edge ('b', 'c')\n",
      "unexplored edge ('b', 'd')\n",
      "d\n",
      "[('d', 'e')]\n",
      "unexplored edge ('d', 'e')\n",
      "e\n",
      "[]\n",
      "c\n",
      "[('c', 'd') ('c', 'e')]\n",
      "a\n",
      "[('a', 'c')]\n",
      "[]\n",
      "['s', np.str_('b'), np.str_('d'), np.str_('e'), np.str_('c'), np.str_('a')]\n"
     ]
    }
   ],
   "source": [
    "## Initialise Q and a list of explored nodes\n",
    "stack = ['s']\n",
    "explored = []\n",
    "\n",
    "# DFS algorithm:\n",
    "\n",
    "#for i in range(len(edge_list)):\n",
    "while len(stack) > 0:    \n",
    "    # remove last node of Q, call it v \n",
    "    v = stack.pop(len(stack)-1) #\n",
    "    print(v)\n",
    "    \n",
    "    # Mark vertex as explored once popped off stack (contrast with BFS)\n",
    "    explored.append(v)\n",
    "            \n",
    "    # Identify edges (v, w)\n",
    "    v_edge_index = np.array(edge_list['source'] == v)\n",
    "    v_edges = edge_list[v_edge_index]\n",
    "\n",
    "    print(v_edges)\n",
    "    \n",
    "    # for each edge (v, w)\n",
    "    for edge in v_edges:\n",
    "        # if w unexplored, mark as explored and add w to Q\n",
    "        #print(edge['sink'] not in explored)\n",
    "        if edge['sink'] not in explored:\n",
    "            print(\"unexplored edge\", edge)\n",
    "            stack.append(edge['sink'])\n",
    "    \n",
    "print(stack)\n",
    "print(explored)"
   ]
  },
  {
   "cell_type": "code",
   "execution_count": 5,
   "metadata": {},
   "outputs": [
    {
     "name": "stdout",
     "output_type": "stream",
     "text": [
      "['s', np.str_('a'), np.str_('c'), np.str_('d'), np.str_('e'), np.str_('b')]\n"
     ]
    }
   ],
   "source": [
    "# Recursive version of DFS\n",
    "\n",
    "# Initialise explored vertices\n",
    "starting_vertex = 's'\n",
    "explored = [starting_vertex]\n",
    "\n",
    "def DFS(edge_list, explored, starting_vertex = starting_vertex):\n",
    "\n",
    "    v_edge_index = np.array(edge_list['source'] == starting_vertex)\n",
    "    v_edges = edge_list[v_edge_index]\n",
    "    \n",
    "    # for each edge (s, v)\n",
    "    for edge in v_edges:\n",
    "        # if v unexplored, mark as explored and recursively call DFS(edge_list, v)\n",
    "        #print(edge['sink'] not in explored)\n",
    "        if edge['sink'] not in explored:\n",
    "            #print(edge['sink'])\n",
    "            explored.append(edge['sink'])\n",
    "            explored = DFS(edge_list, explored, edge['sink'])\n",
    "            \n",
    "    return explored\n",
    "\n",
    "\n",
    "explored = DFS(edge_list, explored, starting_vertex = 's')\n",
    "            \n",
    "print(explored)    "
   ]
  }
 ],
 "metadata": {
  "kernelspec": {
   "display_name": "Python 3",
   "language": "python",
   "name": "python3"
  },
  "language_info": {
   "codemirror_mode": {
    "name": "ipython",
    "version": 3
   },
   "file_extension": ".py",
   "mimetype": "text/x-python",
   "name": "python",
   "nbconvert_exporter": "python",
   "pygments_lexer": "ipython3",
   "version": "3.13.2"
  }
 },
 "nbformat": 4,
 "nbformat_minor": 2
}
